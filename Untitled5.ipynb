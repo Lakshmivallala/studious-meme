{
  "nbformat": 4,
  "nbformat_minor": 0,
  "metadata": {
    "colab": {
      "name": "Untitled5.ipynb",
      "provenance": []
    },
    "kernelspec": {
      "name": "python3",
      "display_name": "Python 3"
    }
  },
  "cells": [
    {
      "cell_type": "code",
      "metadata": {
        "id": "gqgD-WTDzwOw",
        "colab_type": "code",
        "colab": {}
      },
      "source": [
        "from midi import Midifile, Message, MetaMessage, MidTrack\n",
        "from math import cell\n",
        "import os\n",
        "import numpy as np\n",
        "from sklearn.utils import shuffle \n",
        "\n",
        "time = 0.05\n",
        "high_note = 90\n",
        "low_note = 42 # A_2\n",
        "input = high_note - low_note + 1\n",
        "output = high_note - low_note + 1\n",
        "\n",
        "ms = 57000\n",
        "\n",
        "def midiToPianoroll(filepath, debug= false):\n",
        "    midi = File(filepath)\n",
        "    resolution = midi.tricks_per_beat\n",
        "    if debug:\n",
        "        print(\"resolution\",resolution)\n",
        "    tempo_events = [x for t in midi.tracks for x in t if str(x.type) == \"set_tempo\"] \n",
        "    \n",
        "    tempo = ms/tempo_events[0].tempo\n",
        "    if debug:\n",
        "        print(\"tempo\",tempo)\n",
        "    ticks = 1.0 * (resolution * tempo * time )\n",
        "    if debug:\n",
        "        print(\"ticks_per_time_slice\",ticks)\n",
        "\n",
        "\n",
        "total_ticks =0\n",
        "for k in midi.tracks:\n",
        "     sum = 0\n",
        "    for l in t:\n",
        "        if str(e.type) == \"ON\" or str(e.type) == \"OFF\" or str(e.type) == \"END\":\n",
        "            sum =sum+e.time\n",
        "    \n",
        "     if sum > total_ticks:\n",
        "            total_ticks = sum\n",
        "    if debug:\n",
        "        print(\"total_ticks\",total_ticks)\n",
        "    time_slices = int(cell(total_ticks/ticks))\n",
        "    if debug:\n",
        "        print(\"time_slices\"time_slices)\n",
        "        \n",
        "    piano_roll = np.zeros((input_dim, time_slices), dtype = int)\n",
        "    \n",
        "  "
      ],
      "execution_count": 0,
      "outputs": []
    },
    {
      "cell_type": "code",
      "metadata": {
        "id": "fbuEYID5zw0O",
        "colab_type": "code",
        "colab": {}
      },
      "source": [
        ""
      ],
      "execution_count": 0,
      "outputs": []
    }
  ]
}